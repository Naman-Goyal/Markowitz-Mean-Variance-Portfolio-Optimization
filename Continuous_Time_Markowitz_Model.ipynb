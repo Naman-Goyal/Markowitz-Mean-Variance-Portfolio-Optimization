{
 "cells": [
  {
   "cell_type": "code",
   "execution_count": 131,
   "metadata": {},
   "outputs": [],
   "source": [
    "import pandas as pd\n",
    "from datetime import date\n",
    "import numpy as np\n",
    "from numpy import NaN, NAN,nan\n",
    "import matplotlib.pyplot as plt\n",
    "%matplotlib inline"
   ]
  },
  {
   "cell_type": "markdown",
   "metadata": {},
   "source": [
    "## 0. Introduction"
   ]
  },
  {
   "cell_type": "markdown",
   "metadata": {},
   "source": [
    "### In this project, we will implement the continuous-time Markowitz model on the real data."
   ]
  },
  {
   "cell_type": "markdown",
   "metadata": {},
   "source": [
    "## 1. Read the data."
   ]
  },
  {
   "cell_type": "markdown",
   "metadata": {},
   "source": [
    "### First we read the data files 'price_data.csv' and 'risk_free_monthly.csv' into dataframes. 'price_data.csv' contains monthly price data of 20 stocks from the end of 2004 to the end of 2014. 'risk_free_monthly.csv' contains monthly risk-free rate from 2004-12-31 to 2014-12-31."
   ]
  },
  {
   "cell_type": "code",
   "execution_count": 132,
   "metadata": {},
   "outputs": [],
   "source": [
    "# Read data from csv files in form of pd.DataFrame \n",
    "# and set index column to be date\n",
    "#########Your code here#######################\n",
    "data = pd.read_csv(\"price_data.csv\")\n",
    "data.index=data[\"date\"]\n",
    "data.drop(columns=['date'],inplace=True)\n",
    "\n",
    "\n",
    "risk_free_data =pd.read_csv(\"risk_free_monthly.csv\")\n",
    "risk_free_data.index=risk_free_data[\"DATE\"]\n",
    "risk_free_data.drop(columns=['DATE'],inplace=True)\n",
    "##############################################"
   ]
  },
  {
   "cell_type": "markdown",
   "metadata": {},
   "source": [
    "### Each column represents the prices of one particular stock. The column index represents the stock tickers and the row index presents the date, from 2004-12-31 to 2014-12-31. Let's look at first 5 rows of the data in following cell."
   ]
  },
  {
   "cell_type": "code",
   "execution_count": 133,
   "metadata": {},
   "outputs": [
    {
     "data": {
      "text/html": [
       "<div>\n",
       "<style scoped>\n",
       "    .dataframe tbody tr th:only-of-type {\n",
       "        vertical-align: middle;\n",
       "    }\n",
       "\n",
       "    .dataframe tbody tr th {\n",
       "        vertical-align: top;\n",
       "    }\n",
       "\n",
       "    .dataframe thead th {\n",
       "        text-align: right;\n",
       "    }\n",
       "</style>\n",
       "<table border=\"1\" class=\"dataframe\">\n",
       "  <thead>\n",
       "    <tr style=\"text-align: right;\">\n",
       "      <th></th>\n",
       "      <th>BAC</th>\n",
       "      <th>C</th>\n",
       "      <th>CSCO</th>\n",
       "      <th>CVX</th>\n",
       "      <th>GE</th>\n",
       "      <th>IBM</th>\n",
       "      <th>INTC</th>\n",
       "      <th>JNJ</th>\n",
       "      <th>JPM</th>\n",
       "      <th>MRK</th>\n",
       "      <th>MSFT</th>\n",
       "      <th>ORCL</th>\n",
       "      <th>PEP</th>\n",
       "      <th>PFE</th>\n",
       "      <th>PG</th>\n",
       "      <th>T</th>\n",
       "      <th>VZ</th>\n",
       "      <th>WFC</th>\n",
       "      <th>WMT</th>\n",
       "      <th>XOM</th>\n",
       "    </tr>\n",
       "    <tr>\n",
       "      <th>date</th>\n",
       "      <th></th>\n",
       "      <th></th>\n",
       "      <th></th>\n",
       "      <th></th>\n",
       "      <th></th>\n",
       "      <th></th>\n",
       "      <th></th>\n",
       "      <th></th>\n",
       "      <th></th>\n",
       "      <th></th>\n",
       "      <th></th>\n",
       "      <th></th>\n",
       "      <th></th>\n",
       "      <th></th>\n",
       "      <th></th>\n",
       "      <th></th>\n",
       "      <th></th>\n",
       "      <th></th>\n",
       "      <th></th>\n",
       "      <th></th>\n",
       "    </tr>\n",
       "  </thead>\n",
       "  <tbody>\n",
       "    <tr>\n",
       "      <th>2004-12-31</th>\n",
       "      <td>46.990002</td>\n",
       "      <td>481.800003</td>\n",
       "      <td>19.320000</td>\n",
       "      <td>52.509998</td>\n",
       "      <td>36.500000</td>\n",
       "      <td>98.580002</td>\n",
       "      <td>23.389999</td>\n",
       "      <td>63.419998</td>\n",
       "      <td>39.009998</td>\n",
       "      <td>32.139999</td>\n",
       "      <td>26.719999</td>\n",
       "      <td>13.72</td>\n",
       "      <td>52.200001</td>\n",
       "      <td>26.889999</td>\n",
       "      <td>55.080002</td>\n",
       "      <td>25.770000</td>\n",
       "      <td>36.380845</td>\n",
       "      <td>31.075001</td>\n",
       "      <td>52.820000</td>\n",
       "      <td>51.259998</td>\n",
       "    </tr>\n",
       "    <tr>\n",
       "      <th>2005-01-31</th>\n",
       "      <td>46.369999</td>\n",
       "      <td>490.499992</td>\n",
       "      <td>18.040001</td>\n",
       "      <td>54.400002</td>\n",
       "      <td>36.130001</td>\n",
       "      <td>93.419998</td>\n",
       "      <td>22.450001</td>\n",
       "      <td>64.699997</td>\n",
       "      <td>37.330002</td>\n",
       "      <td>28.049999</td>\n",
       "      <td>26.280001</td>\n",
       "      <td>13.77</td>\n",
       "      <td>53.700001</td>\n",
       "      <td>24.160000</td>\n",
       "      <td>53.230000</td>\n",
       "      <td>23.760000</td>\n",
       "      <td>31.962339</td>\n",
       "      <td>30.650000</td>\n",
       "      <td>52.400002</td>\n",
       "      <td>51.599998</td>\n",
       "    </tr>\n",
       "    <tr>\n",
       "      <th>2005-02-28</th>\n",
       "      <td>46.650002</td>\n",
       "      <td>477.200012</td>\n",
       "      <td>17.420000</td>\n",
       "      <td>62.080002</td>\n",
       "      <td>35.200001</td>\n",
       "      <td>92.580002</td>\n",
       "      <td>23.990000</td>\n",
       "      <td>65.599998</td>\n",
       "      <td>36.549999</td>\n",
       "      <td>31.700001</td>\n",
       "      <td>25.160000</td>\n",
       "      <td>12.95</td>\n",
       "      <td>53.860001</td>\n",
       "      <td>26.290001</td>\n",
       "      <td>53.090000</td>\n",
       "      <td>24.059999</td>\n",
       "      <td>32.303606</td>\n",
       "      <td>29.690001</td>\n",
       "      <td>51.610001</td>\n",
       "      <td>63.310001</td>\n",
       "    </tr>\n",
       "    <tr>\n",
       "      <th>2005-03-31</th>\n",
       "      <td>44.099998</td>\n",
       "      <td>449.399986</td>\n",
       "      <td>17.889999</td>\n",
       "      <td>58.310001</td>\n",
       "      <td>36.060001</td>\n",
       "      <td>91.379997</td>\n",
       "      <td>23.230000</td>\n",
       "      <td>67.160004</td>\n",
       "      <td>34.599998</td>\n",
       "      <td>32.369999</td>\n",
       "      <td>24.170000</td>\n",
       "      <td>12.48</td>\n",
       "      <td>53.029999</td>\n",
       "      <td>26.270000</td>\n",
       "      <td>53.000000</td>\n",
       "      <td>23.690001</td>\n",
       "      <td>31.881512</td>\n",
       "      <td>29.900000</td>\n",
       "      <td>50.110001</td>\n",
       "      <td>59.599998</td>\n",
       "    </tr>\n",
       "    <tr>\n",
       "      <th>2005-04-29</th>\n",
       "      <td>45.040001</td>\n",
       "      <td>469.599991</td>\n",
       "      <td>17.270000</td>\n",
       "      <td>52.000000</td>\n",
       "      <td>36.200001</td>\n",
       "      <td>76.379997</td>\n",
       "      <td>23.520000</td>\n",
       "      <td>68.629997</td>\n",
       "      <td>35.490002</td>\n",
       "      <td>33.900002</td>\n",
       "      <td>25.299999</td>\n",
       "      <td>11.56</td>\n",
       "      <td>55.639999</td>\n",
       "      <td>27.170000</td>\n",
       "      <td>54.150002</td>\n",
       "      <td>23.799999</td>\n",
       "      <td>32.150933</td>\n",
       "      <td>29.969999</td>\n",
       "      <td>47.139999</td>\n",
       "      <td>57.029999</td>\n",
       "    </tr>\n",
       "  </tbody>\n",
       "</table>\n",
       "</div>"
      ],
      "text/plain": [
       "                  BAC           C       CSCO        CVX         GE        IBM  \\\n",
       "date                                                                            \n",
       "2004-12-31  46.990002  481.800003  19.320000  52.509998  36.500000  98.580002   \n",
       "2005-01-31  46.369999  490.499992  18.040001  54.400002  36.130001  93.419998   \n",
       "2005-02-28  46.650002  477.200012  17.420000  62.080002  35.200001  92.580002   \n",
       "2005-03-31  44.099998  449.399986  17.889999  58.310001  36.060001  91.379997   \n",
       "2005-04-29  45.040001  469.599991  17.270000  52.000000  36.200001  76.379997   \n",
       "\n",
       "                 INTC        JNJ        JPM        MRK       MSFT   ORCL  \\\n",
       "date                                                                       \n",
       "2004-12-31  23.389999  63.419998  39.009998  32.139999  26.719999  13.72   \n",
       "2005-01-31  22.450001  64.699997  37.330002  28.049999  26.280001  13.77   \n",
       "2005-02-28  23.990000  65.599998  36.549999  31.700001  25.160000  12.95   \n",
       "2005-03-31  23.230000  67.160004  34.599998  32.369999  24.170000  12.48   \n",
       "2005-04-29  23.520000  68.629997  35.490002  33.900002  25.299999  11.56   \n",
       "\n",
       "                  PEP        PFE         PG          T         VZ        WFC  \\\n",
       "date                                                                           \n",
       "2004-12-31  52.200001  26.889999  55.080002  25.770000  36.380845  31.075001   \n",
       "2005-01-31  53.700001  24.160000  53.230000  23.760000  31.962339  30.650000   \n",
       "2005-02-28  53.860001  26.290001  53.090000  24.059999  32.303606  29.690001   \n",
       "2005-03-31  53.029999  26.270000  53.000000  23.690001  31.881512  29.900000   \n",
       "2005-04-29  55.639999  27.170000  54.150002  23.799999  32.150933  29.969999   \n",
       "\n",
       "                  WMT        XOM  \n",
       "date                              \n",
       "2004-12-31  52.820000  51.259998  \n",
       "2005-01-31  52.400002  51.599998  \n",
       "2005-02-28  51.610001  63.310001  \n",
       "2005-03-31  50.110001  59.599998  \n",
       "2005-04-29  47.139999  57.029999  "
      ]
     },
     "execution_count": 133,
     "metadata": {},
     "output_type": "execute_result"
    }
   ],
   "source": [
    "data.head()"
   ]
  },
  {
   "cell_type": "code",
   "execution_count": 134,
   "metadata": {},
   "outputs": [
    {
     "data": {
      "text/html": [
       "<div>\n",
       "<style scoped>\n",
       "    .dataframe tbody tr th:only-of-type {\n",
       "        vertical-align: middle;\n",
       "    }\n",
       "\n",
       "    .dataframe tbody tr th {\n",
       "        vertical-align: top;\n",
       "    }\n",
       "\n",
       "    .dataframe thead th {\n",
       "        text-align: right;\n",
       "    }\n",
       "</style>\n",
       "<table border=\"1\" class=\"dataframe\">\n",
       "  <thead>\n",
       "    <tr style=\"text-align: right;\">\n",
       "      <th></th>\n",
       "      <th>risk_free_monthly</th>\n",
       "    </tr>\n",
       "    <tr>\n",
       "      <th>DATE</th>\n",
       "      <th></th>\n",
       "    </tr>\n",
       "  </thead>\n",
       "  <tbody>\n",
       "    <tr>\n",
       "      <th>2004-12-31</th>\n",
       "      <td>0.003460</td>\n",
       "    </tr>\n",
       "    <tr>\n",
       "      <th>2005-01-31</th>\n",
       "      <td>0.003380</td>\n",
       "    </tr>\n",
       "    <tr>\n",
       "      <th>2005-02-28</th>\n",
       "      <td>0.003556</td>\n",
       "    </tr>\n",
       "    <tr>\n",
       "      <th>2005-03-31</th>\n",
       "      <td>0.003668</td>\n",
       "    </tr>\n",
       "    <tr>\n",
       "      <th>2005-04-29</th>\n",
       "      <td>0.003436</td>\n",
       "    </tr>\n",
       "  </tbody>\n",
       "</table>\n",
       "</div>"
      ],
      "text/plain": [
       "            risk_free_monthly\n",
       "DATE                         \n",
       "2004-12-31           0.003460\n",
       "2005-01-31           0.003380\n",
       "2005-02-28           0.003556\n",
       "2005-03-31           0.003668\n",
       "2005-04-29           0.003436"
      ]
     },
     "execution_count": 134,
     "metadata": {},
     "output_type": "execute_result"
    }
   ],
   "source": [
    "risk_free_data.head()"
   ]
  },
  {
   "cell_type": "markdown",
   "metadata": {},
   "source": [
    "## 2. Reviews of Financial Market and Markowitz Model"
   ]
  },
  {
   "cell_type": "markdown",
   "metadata": {},
   "source": [
    "### There is one risk-free asset whose sde is\n",
    "$$dS_t^0 = r_tS_t^0 dt,$$\n",
    "\n",
    "where $r_t$ is the risk-free rate."
   ]
  },
  {
   "cell_type": "markdown",
   "metadata": {},
   "source": [
    "### We assume the $n$ stocks follow the geometric Brownian Motion (also the number of stocks equals to that of Brownian Motion, no arbitrage and market is complete), whose dynamics are described by following SDE:\n",
    "$$dS_t^i = S_t^i (\\mu_t^i dt + \\sum\\limits_{j = 1}^{n} \\sigma_t^{ij} dW^j_t),\\ i = 1,2,...,n.$$"
   ]
  },
  {
   "cell_type": "markdown",
   "metadata": {},
   "source": [
    "### Suppose a investor who invests $\\pi^i_t$ dolloars in ith stock, then the wealth process $x_t$ of this investor will follow\n",
    "\\begin{equation}\n",
    "dx_t = (r_tx_t + B_t^\\top\\pi_t) dt + \\pi_t^\\top\\sigma_t dW_t,\n",
    "\\end{equation}\n",
    "where $B_t = (\\mu^1_t - r_t, ..., \\mu^{n}_t - r_t)^\\top$, $W_t = (W^1_t, ..., W^{n}_t)^\\top$, $\\pi_t = (\\pi^1_t, ..., \\pi^{n}_t)^\\top$ and $\\sigma_t = (\\sigma_t^{ij})_{ij}$. "
   ]
  },
  {
   "cell_type": "markdown",
   "metadata": {},
   "source": [
    "### The formulation of Markowitz problem is as \n",
    "\\begin{equation}\n",
    "\\begin{aligned}\n",
    "\\text{Minimize  } &J(\\pi) = \\text{Var} (x_T),\\\\\n",
    "\\text{subject to  } &\\mathbb{E}[x_T] = z,\\\\\n",
    "& dx_t = (r_tx_t + B_t^\\top\\pi_t) dt + \\pi_t^\\top\\sigma_t dW_t.\n",
    "\\end{aligned}\n",
    "\\end{equation}"
   ]
  },
  {
   "cell_type": "markdown",
   "metadata": {},
   "source": [
    "### In Section 2 of Lecture 18, we have solved the above Markowitz model and obtained its optimal portfolio as\n",
    "\\begin{equation}\n",
    "\\begin{aligned}\n",
    "\\pi_t^\\ast &= -(\\sigma_t^\\top)^{-1}\\lambda_t(x_t^\\ast - \\theta \\exp(-\\int_t^T r_s ds))\\\\\n",
    "           &= -(\\sigma_t\\sigma_t^\\top)^{-1}B_t(x_t^\\ast - \\theta \\exp(-\\int_t^T r_s ds)),\n",
    "\\end{aligned}\n",
    "\\end{equation}\n",
    "where\n",
    "$$\\theta = \\frac{z\\exp(\\int_0^T |\\lambda_s|^2 ds) - x_0 \\exp({\\int_0^T r_s ds})}{\\exp(\\int_0^T |\\lambda_s|^2 ds) - 1},$$\n",
    "and $\\lambda_t = \\sigma^{-1}_t B_t$."
   ]
  },
  {
   "cell_type": "markdown",
   "metadata": {},
   "source": [
    "## 3. Numerical Experiment"
   ]
  },
  {
   "cell_type": "markdown",
   "metadata": {},
   "source": [
    "### In this numerical experiment, we construct a portfolio according to Markowitz model on 2009-12-31 . At the end of each following month, we will rebalance our portfolio according to the optimal portfolio formula until 2014-12-31. In the end, we will plot the realized wealth process."
   ]
  },
  {
   "cell_type": "markdown",
   "metadata": {},
   "source": [
    "### 3.0 Background setting. "
   ]
  },
  {
   "cell_type": "markdown",
   "metadata": {},
   "source": [
    "<ol>\n",
    "  <li>$n = 20$. We have $20$ stocks in total.</li>\n",
    "  <li>Time $0$ indicates time 2009-12-31. Each month diffrence is $1$. In the data 2009-12-31 corresponding to index $60$, so we will define a data-start-time = 60 in implementation. But theoretically, 2009-12-31 corresponding to time $0$.</li>\n",
    "  <li>$T = 60$. This represents $60$ months from 2009-12-31 to 2014-12-31.</li>\n",
    "  <li>$x_0 = 1$. The initial wealth for us is $1$ dollar.</li>\n",
    "  <li>$z = 1.4$. The target wealth for us is $1.4$ dollar (annualized return rate is approximate 7%).</li>\n",
    "    \n",
    "</ol>"
   ]
  },
  {
   "cell_type": "code",
   "execution_count": 135,
   "metadata": {},
   "outputs": [],
   "source": [
    "#####Initialization#################\n",
    "n = 20\n",
    "T = 60\n",
    "x0 = 1\n",
    "z = 1.4\n",
    "data_start_time = 60"
   ]
  },
  {
   "cell_type": "markdown",
   "metadata": {},
   "source": [
    "### 3.1 Estimate Parameters"
   ]
  },
  {
   "cell_type": "markdown",
   "metadata": {},
   "source": [
    "### We will use a transformation of 10-year Treasury yield rate at the end of each month as the risk-free rate $r_t$. Then what we left is to estimate the parameters $\\mu_t^i$ and $\\sigma^{ij}_t$ in each month. First, we can solve the SDE of $S_t^i$ and obtain \n",
    "\\begin{equation}\n",
    "\\log(S_t^i) = \\log(S_0^i) + \\int_0^t (\\mu_t^i - \\frac{1}{2} \\sum\\limits_{j=1}^{20} (\\sigma^{ij}_t)^2) dt + \\int_0^t\\sum\\limits_{j=1}^{20} \\sigma_{t}^{ij}dW_t^j.\n",
    "\\end{equation}"
   ]
  },
  {
   "cell_type": "markdown",
   "metadata": {},
   "source": [
    "### So the difference between $S_t^i$ and $S_{t+1}^i$ is \n",
    "$$\\log(S_{t + 1}^i) - \\log(S_t^i) = \\int_t^{t+1} (\\mu_t^i - \\frac{1}{2} \\sum\\limits_{j=1}^{20} (\\sigma^{ij}_t)^2) dt + \\int_t^{t+1}\\sum\\limits_{j=1}^{20} \\sigma_{t}^{ij}dW_t^j.$$"
   ]
  },
  {
   "cell_type": "markdown",
   "metadata": {},
   "source": [
    "### Now we assume that, each coefficent will not change during one month, thus the difference can be rewrite as\n",
    "$$R_t^i := \\log(S_{t + 1}^i) - \\log(S_t^i)  =  (\\mu_t^i - \\frac{1}{2} \\sum\\limits_{j=1}^{20} (\\sigma^{ij}_t)^2) + \\sum\\limits_{j=1}^{20} \\sigma_{t}^{ij}Z^j,$$\n",
    "\n",
    "### where $Z^j\\sim N(0,1),\\ j=1,2,...,20$ and is independent with each other."
   ]
  },
  {
   "cell_type": "markdown",
   "metadata": {},
   "source": [
    "### If we denote $\\bar{\\sigma}_t^{i} = (\\sigma_t^{i1}, \\sigma_t^{i2}, ..., \\sigma_t^{i20})^\\top$, then $R_t^i$ can be simplified as\n",
    "$$R_t^i = \\left[\\mu_t^i - \\frac{1}{2}(\\bar{\\sigma}_t^{i})^\\top \\bar{\\sigma}_t^{i}\\right] +  (\\bar{\\sigma}_t^{i})^\\top Z,$$\n",
    "where $Z = (Z^1, ..., Z^{20})^\\top.$"
   ]
  },
  {
   "cell_type": "markdown",
   "metadata": {},
   "source": [
    "### Now, we talk about how to use $R_t^i$ to estimate parameters. Here I want to emphasize that, in order to implement Markowitz portfolio, we only need to estimate $\\mu_t^i$ and $(\\bar{\\sigma}_t^{i})^\\top\\bar{\\sigma}_t^j$ for each $i,j = 1,2,...,20$. You will see the reason later."
   ]
  },
  {
   "cell_type": "markdown",
   "metadata": {},
   "source": [
    "### It is not hard to see that $cov(R_t^i, R_t^j) = (\\bar{\\sigma}_t^{i})^\\top\\bar{\\sigma}_t^j$. As a result, we can use sample covariance of $R_t^i$ and $R_t^j$ to estimate $(\\bar{\\sigma}_t^{i})^\\top\\bar{\\sigma}_t^j$.  Now we define $\\Sigma_t$ is a $20\\times 20$ matrix whose element at ith row and jth column is $(\\bar{\\sigma}_t^{i})^\\top\\bar{\\sigma}_t^j$ (i.e., $\\Sigma_t:=((\\bar{\\sigma}_t^{i})^\\top\\bar{\\sigma}_t^j)_{ij}$."
   ]
  },
  {
   "cell_type": "markdown",
   "metadata": {},
   "source": [
    "### Then we look at the mean of $R_t^i$ and we can know $\\mathbb{E}[R_t^i] = \\mu_t^i - \\frac{1}{2}(\\bar{\\sigma}_t^{i})^\\top \\bar{\\sigma}_t^{i}.$ Since we have already estimate $(\\bar{\\sigma}_t^{i})^\\top \\bar{\\sigma}_t^{i}$ by the covariance, then we are able to estimate $\\mu_t^i$ using $\\mu_t^i = \\mathbb{E}[R_t^i] + \\frac{1}{2}(\\bar{\\sigma}_t^{i})^\\top \\bar{\\sigma}_t^{i}$."
   ]
  },
  {
   "cell_type": "markdown",
   "metadata": {},
   "source": [
    "### In conlusion, we can estimate $(\\bar{\\sigma}_t^{i})^\\top\\bar{\\sigma}_t^j$ by sample covariance of $R_t^i$ and $R_t^j$ which is $\\Sigma_t^{ij}$, and estimate $\\mu_t^j$ by $\\mu_t^i = \\mathbb{E}[R_t^i] + \\frac{1}{2}cov(R_t^i, R_t^i) = \\mathbb{E}[R_t^i] + \\frac{1}{2}\\Sigma_t^{i,i}$."
   ]
  },
  {
   "cell_type": "markdown",
   "metadata": {},
   "source": [
    "### In this experiment, we will use previous 5 years data to estimate the parameters. For example, if we are at 2009-12-31, then we will use the data from 2004-12-31 to 2009-12-31 to estimate the parameters."
   ]
  },
  {
   "cell_type": "markdown",
   "metadata": {},
   "source": [
    "### In the following cell, we define a function who will return estimators of $B_t$ and $\\Sigma_t$ at time t."
   ]
  },
  {
   "cell_type": "code",
   "execution_count": 136,
   "metadata": {},
   "outputs": [],
   "source": [
    "def estimate_paras(t):\n",
    "    t = t + data_start_time\n",
    "    training_period = 5 * 12 \n",
    "    train_data = data.iloc[t - training_period: t + 1, :] \n",
    "    \n",
    "    log_price = np.log(train_data)\n",
    "    return_data =log_price.diff()\n",
    "    \n",
    "    return_data = return_data.dropna() \n",
    "    sigma = return_data.cov() \n",
    "    mean_v = return_data.mean()\n",
    "    \n",
    "    mu = [mean_v[i]+0.5*sigma.iloc[i,i] for i in range(len(mean_v))]\n",
    "    mu = pd.DataFrame(mu,index=mean_v.index)\n",
    "    \n",
    "    r = risk_free_data[\"risk_free_monthly\"].values[t]\n",
    "    Bt = mu - r ##obtain B_t\n",
    "    return Bt, sigma\n"
   ]
  },
  {
   "cell_type": "markdown",
   "metadata": {},
   "source": [
    "### Then we need calculate value of $|\\lambda_t|^2$ using $|\\lambda_t|^2 = B_t^\\top (\\sigma^{-1}_t)^\\top \\sigma^{-1}_tB_t = B_t^\\top (\\sigma_t\\sigma^{\\top}_t)^{-1}B_t = B_t^\\top \\Sigma_t^{-1}B_t$. The function is writen in following cell."
   ]
  },
  {
   "cell_type": "code",
   "execution_count": 137,
   "metadata": {},
   "outputs": [],
   "source": [
    "def lambda_square(Bt, sigma):\n",
    "    Bt=np.asarray(Bt)\n",
    "    return np.matmul(np.matmul(Bt.T,np.linalg.inv(np.asarray(sigma))),Bt)"
   ]
  },
  {
   "cell_type": "markdown",
   "metadata": {},
   "source": [
    "### Next let's calculate the value of $\\theta$ using the formula:\n",
    "$$\\theta = \\frac{z\\exp(\\int_0^T |\\lambda_s|^2 ds) - x_0 \\exp({\\int_0^T r_s ds})}{\\exp(\\int_0^T |\\lambda_s|^2 ds) - 1}.$$\n",
    "### There's a problem. We only know the value of $\\lambda_0$ and $r_0$ at time $0$. So here we have to estimate all of the following values using the  $\\lambda_0$ and $r_0$. To be precise, we will use following formula to calculate $\\theta$:\n",
    "$$\\theta = \\frac{z\\exp(|\\lambda_0|^2 T) - x_0 \\exp({r_0 T})}{\\exp(|\\lambda_0|^2 T) - 1}.$$"
   ]
  },
  {
   "cell_type": "code",
   "execution_count": 138,
   "metadata": {},
   "outputs": [],
   "source": [
    "def risk_free_value(t):\n",
    "    \"\"\"find the risk free rate at time t\"\"\"\n",
    "    #########Your code here#######################\n",
    "    t = t + data_start_time\n",
    "    return risk_free_data[\"risk_free_monthly\"].values[t] ### Type here ###\n",
    "    ##############################################\n",
    "def calculate_theta():\n",
    "    \"\"\"calculate theta by the previous formula\"\"\"\n",
    "    Bt, sigma = estimate_paras(0)\n",
    "    lambda_2_val = lambda_square(Bt, sigma)\n",
    "    r = risk_free_value(0)\n",
    "    #########Your code here#######################\n",
    "    theta =(z*np.exp(lambda_2_val*T)-x0*np.exp(r*T))/(np.exp(lambda_2_val*T)-1) ### Type here ###\n",
    "    ##############################################\n",
    "    return theta[0][0]"
   ]
  },
  {
   "cell_type": "markdown",
   "metadata": {},
   "source": [
    "### Now we have everything to calculate portfolio $\\pi_t^\\ast$:\n",
    "\\begin{equation}\n",
    "\\begin{aligned}\n",
    "\\pi_t^\\ast &= -(\\sigma_t\\sigma_t^\\top)^{-1}B_t(x_t^\\ast - \\theta \\exp(-\\int_t^T r_s ds)),\n",
    "\\end{aligned}\n",
    "\\end{equation}\n",
    "where $x_t^\\ast$ is the current portfolio wealth and $-\\int_t^T r_s ds$ has to be estimated by $r_t(T-t)$."
   ]
  },
  {
   "cell_type": "code",
   "execution_count": 139,
   "metadata": {},
   "outputs": [],
   "source": [
    "def calculate_portfolio(xt,t):\n",
    "   \n",
    "    Bt, sigma = estimate_paras(t)\n",
    "    r = risk_free_value(t)\n",
    "    theta=calculate_theta()\n",
    "    sigma = np.asarray(sigma)\n",
    "    print(type(Bt),type(r),type(theta),type(sigma))\n",
    "\n",
    "    pi_t = -1*np.matmul(np.linalg.inv(sigma),Bt)*(xt-theta*np.exp(-r*(T-t)))\n",
    "    return np.asarray(pi_t[0])"
   ]
  },
  {
   "cell_type": "markdown",
   "metadata": {},
   "source": [
    "### Our portfolio is divided into two parts. risk-free asset and risky assets. So each month, we first calculate the wealth of risk-free asset (we assume the interests of risk-free asset will be obtained (or paied if you borrow money) every month) and then calculate the wealth of risky assets. Add them together we can obtain the new wealth value for this month. The function is written in the following cell:"
   ]
  },
  {
   "cell_type": "code",
   "execution_count": 140,
   "metadata": {},
   "outputs": [],
   "source": [
    "def calculate_wealth(xt, pi_t, t):\n",
    "    \"\"\"calculate wealth at time t+1\"\"\"\n",
    "    risk_free_account_old = xt - sum(pi_t) ##calculate the money invested in risk-free asset.\n",
    "    r = risk_free_value(t)\n",
    "    #########Your code here#######################\n",
    "    risk_free_account_new = risk_free_account_old*(1+r)### Type here ### ## calculate the risk-free asset money ammount in this month.\n",
    "    ##############################################\n",
    "    price_old = data.iloc[t + data_start_time, :] ##obtain the stock prices for time t.\n",
    "    shares = pi_t / price_old.values ## calculate the shares in each stock.\n",
    "    price_new = data.iloc[t + data_start_time + 1, :] ## obtain the stock prices for time t+1.\n",
    "    #########Your code here#######################\n",
    "    stock_wealth_new = sum(shares*price_new)### Type here ### obtain wealth value of stock assets at time t+1.\n",
    "    ##############################################\n",
    "    wealth = stock_wealth_new + risk_free_account_new ## obtain wealth value of portfolio at time t+1.\n",
    "    return wealth"
   ]
  },
  {
   "cell_type": "markdown",
   "metadata": {},
   "source": [
    "### Then we start running our experiment. Use the functions and variables defined above to calculate wealth of your portfolio each month. Then use variable 'wealth_list'  to hold the wealth values of each month."
   ]
  },
  {
   "cell_type": "code",
   "execution_count": 141,
   "metadata": {},
   "outputs": [
    {
     "name": "stdout",
     "output_type": "stream",
     "text": [
      "<class 'pandas.core.frame.DataFrame'> <class 'numpy.float64'> <class 'numpy.float64'> <class 'numpy.ndarray'>\n",
      "<class 'pandas.core.frame.DataFrame'> <class 'numpy.float64'> <class 'numpy.float64'> <class 'numpy.ndarray'>\n",
      "<class 'pandas.core.frame.DataFrame'> <class 'numpy.float64'> <class 'numpy.float64'> <class 'numpy.ndarray'>\n",
      "<class 'pandas.core.frame.DataFrame'> <class 'numpy.float64'> <class 'numpy.float64'> <class 'numpy.ndarray'>\n",
      "<class 'pandas.core.frame.DataFrame'> <class 'numpy.float64'> <class 'numpy.float64'> <class 'numpy.ndarray'>\n",
      "<class 'pandas.core.frame.DataFrame'> <class 'numpy.float64'> <class 'numpy.float64'> <class 'numpy.ndarray'>\n",
      "<class 'pandas.core.frame.DataFrame'> <class 'numpy.float64'> <class 'numpy.float64'> <class 'numpy.ndarray'>\n",
      "<class 'pandas.core.frame.DataFrame'> <class 'numpy.float64'> <class 'numpy.float64'> <class 'numpy.ndarray'>\n",
      "<class 'pandas.core.frame.DataFrame'> <class 'numpy.float64'> <class 'numpy.float64'> <class 'numpy.ndarray'>\n",
      "<class 'pandas.core.frame.DataFrame'> <class 'numpy.float64'> <class 'numpy.float64'> <class 'numpy.ndarray'>\n",
      "<class 'pandas.core.frame.DataFrame'> <class 'numpy.float64'> <class 'numpy.float64'> <class 'numpy.ndarray'>\n",
      "<class 'pandas.core.frame.DataFrame'> <class 'numpy.float64'> <class 'numpy.float64'> <class 'numpy.ndarray'>\n",
      "<class 'pandas.core.frame.DataFrame'> <class 'numpy.float64'> <class 'numpy.float64'> <class 'numpy.ndarray'>\n",
      "<class 'pandas.core.frame.DataFrame'> <class 'numpy.float64'> <class 'numpy.float64'> <class 'numpy.ndarray'>\n",
      "<class 'pandas.core.frame.DataFrame'> <class 'numpy.float64'> <class 'numpy.float64'> <class 'numpy.ndarray'>\n",
      "<class 'pandas.core.frame.DataFrame'> <class 'numpy.float64'> <class 'numpy.float64'> <class 'numpy.ndarray'>\n",
      "<class 'pandas.core.frame.DataFrame'> <class 'numpy.float64'> <class 'numpy.float64'> <class 'numpy.ndarray'>\n",
      "<class 'pandas.core.frame.DataFrame'> <class 'numpy.float64'> <class 'numpy.float64'> <class 'numpy.ndarray'>\n",
      "<class 'pandas.core.frame.DataFrame'> <class 'numpy.float64'> <class 'numpy.float64'> <class 'numpy.ndarray'>\n",
      "<class 'pandas.core.frame.DataFrame'> <class 'numpy.float64'> <class 'numpy.float64'> <class 'numpy.ndarray'>\n",
      "<class 'pandas.core.frame.DataFrame'> <class 'numpy.float64'> <class 'numpy.float64'> <class 'numpy.ndarray'>\n",
      "<class 'pandas.core.frame.DataFrame'> <class 'numpy.float64'> <class 'numpy.float64'> <class 'numpy.ndarray'>\n",
      "<class 'pandas.core.frame.DataFrame'> <class 'numpy.float64'> <class 'numpy.float64'> <class 'numpy.ndarray'>\n",
      "<class 'pandas.core.frame.DataFrame'> <class 'numpy.float64'> <class 'numpy.float64'> <class 'numpy.ndarray'>\n",
      "<class 'pandas.core.frame.DataFrame'> <class 'numpy.float64'> <class 'numpy.float64'> <class 'numpy.ndarray'>\n",
      "<class 'pandas.core.frame.DataFrame'> <class 'numpy.float64'> <class 'numpy.float64'> <class 'numpy.ndarray'>\n",
      "<class 'pandas.core.frame.DataFrame'> <class 'numpy.float64'> <class 'numpy.float64'> <class 'numpy.ndarray'>\n",
      "<class 'pandas.core.frame.DataFrame'> <class 'numpy.float64'> <class 'numpy.float64'> <class 'numpy.ndarray'>\n",
      "<class 'pandas.core.frame.DataFrame'> <class 'numpy.float64'> <class 'numpy.float64'> <class 'numpy.ndarray'>\n",
      "<class 'pandas.core.frame.DataFrame'> <class 'numpy.float64'> <class 'numpy.float64'> <class 'numpy.ndarray'>\n",
      "<class 'pandas.core.frame.DataFrame'> <class 'numpy.float64'> <class 'numpy.float64'> <class 'numpy.ndarray'>\n",
      "<class 'pandas.core.frame.DataFrame'> <class 'numpy.float64'> <class 'numpy.float64'> <class 'numpy.ndarray'>\n",
      "<class 'pandas.core.frame.DataFrame'> <class 'numpy.float64'> <class 'numpy.float64'> <class 'numpy.ndarray'>\n",
      "<class 'pandas.core.frame.DataFrame'> <class 'numpy.float64'> <class 'numpy.float64'> <class 'numpy.ndarray'>\n",
      "<class 'pandas.core.frame.DataFrame'> <class 'numpy.float64'> <class 'numpy.float64'> <class 'numpy.ndarray'>\n",
      "<class 'pandas.core.frame.DataFrame'> <class 'numpy.float64'> <class 'numpy.float64'> <class 'numpy.ndarray'>\n",
      "<class 'pandas.core.frame.DataFrame'> <class 'numpy.float64'> <class 'numpy.float64'> <class 'numpy.ndarray'>\n",
      "<class 'pandas.core.frame.DataFrame'> <class 'numpy.float64'> <class 'numpy.float64'> <class 'numpy.ndarray'>\n",
      "<class 'pandas.core.frame.DataFrame'> <class 'numpy.float64'> <class 'numpy.float64'> <class 'numpy.ndarray'>\n",
      "<class 'pandas.core.frame.DataFrame'> <class 'numpy.float64'> <class 'numpy.float64'> <class 'numpy.ndarray'>\n",
      "<class 'pandas.core.frame.DataFrame'> <class 'numpy.float64'> <class 'numpy.float64'> <class 'numpy.ndarray'>\n",
      "<class 'pandas.core.frame.DataFrame'> <class 'numpy.float64'> <class 'numpy.float64'> <class 'numpy.ndarray'>\n",
      "<class 'pandas.core.frame.DataFrame'> <class 'numpy.float64'> <class 'numpy.float64'> <class 'numpy.ndarray'>\n",
      "<class 'pandas.core.frame.DataFrame'> <class 'numpy.float64'> <class 'numpy.float64'> <class 'numpy.ndarray'>\n",
      "<class 'pandas.core.frame.DataFrame'> <class 'numpy.float64'> <class 'numpy.float64'> <class 'numpy.ndarray'>\n",
      "<class 'pandas.core.frame.DataFrame'> <class 'numpy.float64'> <class 'numpy.float64'> <class 'numpy.ndarray'>\n",
      "<class 'pandas.core.frame.DataFrame'> <class 'numpy.float64'> <class 'numpy.float64'> <class 'numpy.ndarray'>\n",
      "<class 'pandas.core.frame.DataFrame'> <class 'numpy.float64'> <class 'numpy.float64'> <class 'numpy.ndarray'>\n",
      "<class 'pandas.core.frame.DataFrame'> <class 'numpy.float64'> <class 'numpy.float64'> <class 'numpy.ndarray'>\n",
      "<class 'pandas.core.frame.DataFrame'> <class 'numpy.float64'> <class 'numpy.float64'> <class 'numpy.ndarray'>\n",
      "<class 'pandas.core.frame.DataFrame'> <class 'numpy.float64'> <class 'numpy.float64'> <class 'numpy.ndarray'>\n",
      "<class 'pandas.core.frame.DataFrame'> <class 'numpy.float64'> <class 'numpy.float64'> <class 'numpy.ndarray'>\n",
      "<class 'pandas.core.frame.DataFrame'> <class 'numpy.float64'> <class 'numpy.float64'> <class 'numpy.ndarray'>\n",
      "<class 'pandas.core.frame.DataFrame'> <class 'numpy.float64'> <class 'numpy.float64'> <class 'numpy.ndarray'>\n",
      "<class 'pandas.core.frame.DataFrame'> <class 'numpy.float64'> <class 'numpy.float64'> <class 'numpy.ndarray'>\n",
      "<class 'pandas.core.frame.DataFrame'> <class 'numpy.float64'> <class 'numpy.float64'> <class 'numpy.ndarray'>\n",
      "<class 'pandas.core.frame.DataFrame'> <class 'numpy.float64'> <class 'numpy.float64'> <class 'numpy.ndarray'>\n",
      "<class 'pandas.core.frame.DataFrame'> <class 'numpy.float64'> <class 'numpy.float64'> <class 'numpy.ndarray'>\n",
      "<class 'pandas.core.frame.DataFrame'> <class 'numpy.float64'> <class 'numpy.float64'> <class 'numpy.ndarray'>\n",
      "<class 'pandas.core.frame.DataFrame'> <class 'numpy.float64'> <class 'numpy.float64'> <class 'numpy.ndarray'>\n"
     ]
    }
   ],
   "source": [
    "wealth_list = [x0] # start from initial wealth x0\n",
    "x=x0\n",
    "theta = calculate_theta() # calculate theta\n",
    "\n",
    "# calculate the wealth process from 0 to T and save them in the list wealth_list. \n",
    "# len(wealth_list) should be 61 (should include the value of x0, x1, ... x60).\n",
    "#########Your code here#######################\n",
    "for t in range(0,T):\n",
    "    pi = calculate_portfolio(x, t)\n",
    "    x = calculate_wealth(x, pi, t)\n",
    "    wealth_list.append(x)\n",
    "##############################################"
   ]
  },
  {
   "cell_type": "code",
   "execution_count": 142,
   "metadata": {},
   "outputs": [],
   "source": [
    "wealth_pd = pd.DataFrame()\n",
    "wealth_pd['Portfolio_Wealth'] = wealth_list\n",
    "wealth_pd.index = data.iloc[data_start_time:,:].index"
   ]
  },
  {
   "cell_type": "markdown",
   "metadata": {},
   "source": [
    "### The wealth plot is shown as following."
   ]
  },
  {
   "cell_type": "code",
   "execution_count": 143,
   "metadata": {},
   "outputs": [
    {
     "data": {
      "text/plain": [
       "<matplotlib.axes._subplots.AxesSubplot at 0x28d283885c0>"
      ]
     },
     "execution_count": 143,
     "metadata": {},
     "output_type": "execute_result"
    },
    {
     "data": {
      "image/png": "[encoded data removed]",
      "text/plain": [
       "<Figure size 1440x720 with 1 Axes>"
      ]
     },
     "metadata": {
      "needs_background": "light"
     },
     "output_type": "display_data"
    }
   ],
   "source": [
    "wealth_pd.plot(figsize = (20,10), fontsize = 12)"
   ]
  },
  {
   "cell_type": "code",
   "execution_count": 144,
   "metadata": {},
   "outputs": [
    {
     "data": {
      "text/plain": [
       "(             0\n",
       " BAC  -0.007198\n",
       " C    -0.020252\n",
       " CSCO  0.005887\n",
       " CVX   0.005837\n",
       " GE   -0.008925\n",
       " IBM   0.009026\n",
       " INTC -0.001232\n",
       " JNJ  -0.000895\n",
       " JPM   0.002883\n",
       " MRK   0.005112\n",
       " MSFT  0.001686\n",
       " ORCL  0.014574\n",
       " PEP   0.000712\n",
       " PFE  -0.003748\n",
       " PG    0.001122\n",
       " T     0.002660\n",
       " VZ    0.001826\n",
       " WFC   0.003598\n",
       " WMT   0.001241\n",
       " XOM   0.001987,\n",
       "            BAC         C      CSCO       CVX        GE       IBM      INTC  \\\n",
       " BAC   0.034609  0.033426  0.006747  0.002536  0.014752  0.003383  0.006835   \n",
       " C     0.033426  0.043687  0.007804  0.005143  0.017188  0.004143  0.007115   \n",
       " CSCO  0.006747  0.007804  0.007099  0.002524  0.005513  0.003129  0.004534   \n",
       " CVX   0.002536  0.005143  0.002524  0.003676  0.002597  0.001111  0.002037   \n",
       " GE    0.014752  0.017188  0.005513  0.002597  0.011473  0.002752  0.004676   \n",
       " IBM   0.003383  0.004143  0.003129  0.001111  0.002752  0.003654  0.002892   \n",
       " INTC  0.006835  0.007115  0.004534  0.002037  0.004676  0.002892  0.007156   \n",
       " JNJ   0.004549  0.005010  0.001702  0.000996  0.002963  0.001378  0.001967   \n",
       " JPM   0.014030  0.014773  0.003296  0.000683  0.006464  0.002337  0.003089   \n",
       " MRK   0.003955  0.005948  0.001483  0.001677  0.002237  0.000746  0.002639   \n",
       " MSFT  0.006339  0.007085  0.004071  0.002348  0.004276  0.001951  0.003853   \n",
       " ORCL  0.006031  0.006246  0.003868  0.002358  0.003755  0.002375  0.004201   \n",
       " PEP   0.004878  0.004437  0.001795  0.001138  0.002861  0.001184  0.001863   \n",
       " PFE   0.007676  0.008009  0.001608  0.001066  0.003534  0.000520  0.001415   \n",
       " PG    0.004488  0.004607  0.001871  0.000756  0.003291  0.000799  0.001710   \n",
       " T     0.003141  0.003709  0.002473  0.001794  0.002910  0.000865  0.002171   \n",
       " VZ    0.002672  0.002952  0.002444  0.001717  0.002206  0.000979  0.002217   \n",
       " WFC   0.020228  0.021877  0.003439  0.001576  0.010034  0.001504  0.003109   \n",
       " WMT   0.003375  0.003071  0.000897  0.000287  0.001772  0.000392  0.001184   \n",
       " XOM   0.001291  0.003115  0.001484  0.002538  0.001540  0.000667  0.000832   \n",
       " \n",
       "            JNJ       JPM       MRK      MSFT      ORCL       PEP       PFE  \\\n",
       " BAC   0.004549  0.014030  0.003955  0.006339  0.006031  0.004878  0.007676   \n",
       " C     0.005010  0.014773  0.005948  0.007085  0.006246  0.004437  0.008009   \n",
       " CSCO  0.001702  0.003296  0.001483  0.004071  0.003868  0.001795  0.001608   \n",
       " CVX   0.000996  0.000683  0.001677  0.002348  0.002358  0.001138  0.001066   \n",
       " GE    0.002963  0.006464  0.002237  0.004276  0.003755  0.002861  0.003534   \n",
       " IBM   0.001378  0.002337  0.000746  0.001951  0.002375  0.001184  0.000520   \n",
       " INTC  0.001967  0.003089  0.002639  0.003853  0.004201  0.001863  0.001415   \n",
       " JNJ   0.001946  0.002007  0.001551  0.001568  0.001836  0.001388  0.001317   \n",
       " JPM   0.002007  0.009187  0.001109  0.003335  0.002957  0.001898  0.003365   \n",
       " MRK   0.001551  0.001109  0.006148  0.002392  0.002120  0.001024  0.002704   \n",
       " MSFT  0.001568  0.003335  0.002392  0.006469  0.003748  0.001745  0.001959   \n",
       " ORCL  0.001836  0.002957  0.002120  0.003748  0.005464  0.001286  0.002046   \n",
       " PEP   0.001388  0.001898  0.001024  0.001745  0.001286  0.002414  0.001208   \n",
       " PFE   0.001317  0.003365  0.002704  0.001959  0.002046  0.001208  0.004225   \n",
       " PG    0.001259  0.001916  0.001190  0.001357  0.000904  0.001470  0.001470   \n",
       " T     0.000875  0.001381  0.001447  0.002394  0.002287  0.000995  0.001378   \n",
       " VZ    0.001015  0.001051  0.001731  0.002413  0.002212  0.001220  0.001199   \n",
       " WFC   0.002757  0.009890  0.001605  0.004039  0.003485  0.002209  0.005245   \n",
       " WMT   0.000716  0.001801  0.000087  0.001296  0.000987  0.000709  0.000653   \n",
       " XOM   0.000781  0.000485  0.001517  0.001784  0.001543  0.000656  0.001058   \n",
       " \n",
       "             PG         T        VZ       WFC       WMT       XOM  \n",
       " BAC   0.004488  0.003141  0.002672  0.020228  0.003375  0.001291  \n",
       " C     0.004607  0.003709  0.002952  0.021877  0.003071  0.003115  \n",
       " CSCO  0.001871  0.002473  0.002444  0.003439  0.000897  0.001484  \n",
       " CVX   0.000756  0.001794  0.001717  0.001576  0.000287  0.002538  \n",
       " GE    0.003291  0.002910  0.002206  0.010034  0.001772  0.001540  \n",
       " IBM   0.000799  0.000865  0.000979  0.001504  0.000392  0.000667  \n",
       " INTC  0.001710  0.002171  0.002217  0.003109  0.001184  0.000832  \n",
       " JNJ   0.001259  0.000875  0.001015  0.002757  0.000716  0.000781  \n",
       " JPM   0.001916  0.001381  0.001051  0.009890  0.001801  0.000485  \n",
       " MRK   0.001190  0.001447  0.001731  0.001605  0.000087  0.001517  \n",
       " MSFT  0.001357  0.002394  0.002413  0.004039  0.001296  0.001784  \n",
       " ORCL  0.000904  0.002287  0.002212  0.003485  0.000987  0.001543  \n",
       " PEP   0.001470  0.000995  0.001220  0.002209  0.000709  0.000656  \n",
       " PFE   0.001470  0.001378  0.001199  0.005245  0.000653  0.001058  \n",
       " PG    0.002338  0.001093  0.000980  0.002986  0.000356  0.000783  \n",
       " T     0.001093  0.003686  0.002735  0.001440  0.000706  0.001295  \n",
       " VZ    0.000980  0.002735  0.003384  0.001123  0.000873  0.001340  \n",
       " WFC   0.002986  0.001440  0.001123  0.016327  0.001907  0.001304  \n",
       " WMT   0.000356  0.000706  0.000873  0.001907  0.002296  0.000105  \n",
       " XOM   0.000783  0.001295  0.001340  0.001304  0.000105  0.002660  )"
      ]
     },
     "execution_count": 144,
     "metadata": {},
     "output_type": "execute_result"
    }
   ],
   "source": [
    "estimate_paras(10)"
   ]
  },
  {
   "cell_type": "code",
   "execution_count": null,
   "metadata": {},
   "outputs": [],
   "source": []
  }
 ],
 "metadata": {
  "kernelspec": {
   "display_name": "Python 3",
   "language": "python",
   "name": "python3"
  },
  "language_info": {
   "codemirror_mode": {
    "name": "ipython",
    "version": 3
   },
   "file_extension": ".py",
   "mimetype": "text/x-python",
   "name": "python",
   "nbconvert_exporter": "python",
   "pygments_lexer": "ipython3",
   "version": "3.6.6"
  }
 },
 "nbformat": 4,
 "nbformat_minor": 2
}
