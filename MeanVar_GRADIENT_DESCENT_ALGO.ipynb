{
 "cells": [
  {
   "cell_type": "markdown",
   "metadata": {},
   "source": [
    "# Exactly the same as HW 1, but use algorithm 2.  You are encouraged to experiment with step size versions."
   ]
  },
  {
   "cell_type": "code",
   "execution_count": 16,
   "metadata": {},
   "outputs": [
    {
     "name": "stdout",
     "output_type": "stream",
     "text": [
      "<built-in method max of numpy.ndarray object at 0x00000208E0ED4E40>\n"
     ]
    }
   ],
   "source": [
    "import numpy as np\n",
    "import pandas as pd\n",
    "import matplotlib.pyplot as plt\n",
    "import math\n",
    "from scipy.interpolate import interp1d\n",
    "\n",
    "df = pd.read_csv('russell_prices.txt', sep=' ', header=None, skiprows=2)\n",
    "\n",
    "# Dropping first two rows\n",
    "df=df.drop(504,1) \n",
    "data=df.to_numpy()\n",
    "\n",
    "#Calculating returns  \n",
    "sample_returns=(data[:,1:504]-data[:,0:503])/data[:,0:503]\n",
    "\n",
    "\n",
    "#Calculating Average of means and printing the maximum average value of returns \n",
    "sample_mean_returns=np.mean(sample_returns,axis=1)\n",
    "print(sample_mean_returns.max)\n",
    "\n",
    "#Calculating Covariance Matrix of returns\n",
    "sample_cov_matrix=np.cov(sample_returns)\n",
    "\n",
    "# get feasible solution\n",
    "def get_feasible_x(l,u):\n",
    "   \n",
    "    \n",
    "# Assigning lower limit to all values of x    \n",
    "    x = np.array(l)\n",
    "\n",
    "# Checking if summation of x is close to 1\n",
    "    if abs(x.sum() - 1) < 0.01:\n",
    "        return x\n",
    "    \n",
    "# Checking if summation of x is exceeding 1, problem would be infeasible (no solution exist)   \n",
    "    elif x.sum() > 1:\n",
    "        raise Exception('The problem is infeasible! Sum of all lower bounds larger than 1')\n",
    "    else:\n",
    "        i = 0\n",
    "         \n",
    "        while x.sum() < 1 and i <= 946:\n",
    "            if 1-x.sum()<=(u[i] - l[i]):\n",
    "                x[i]=x[i]+1-x.sum()\n",
    "                return x\n",
    "            else:\n",
    "                x[i] = u[i]\n",
    "                i += 1\n",
    "# If all of the above conditions does not staisfy, it means summation of x exceeds 1 and x = u(upper limit), feasible solution does not exist\n",
    "    raise Exception('The problem is infeasible! Sum of all upper bounds smaller than 1')\n",
    "\n",
    "\n",
    "# get y\n",
    "\n",
    "# Finding the gradient of the function f\n",
    "\n",
    "def find_gradient(x,mean_return,cov_matrix,lamda):\n",
    "    g=np.zeros(947)\n",
    "    for i in range(len(x)-1):\n",
    "        g[i]=lamda*(2*cov_matrix[i,i]*x[i]+2*sum(cov_matrix[i,i+1:]*x[i+1:]))-mean_return[i]\n",
    "    g[len(x)-1]=lamda*(2*cov_matrix[i,i] * x[i])-mean_return[i]\n",
    "    return g\n",
    "\n",
    "def sort_grads(g):\n",
    "    arr = np.asarray(g)\n",
    "    out=np.argsort(arr)\n",
    "    grads_high_to_low=np.flip(out)\n",
    "    return grads_high_to_low\n",
    "\n",
    "\n",
    "\n",
    "# Solving the linear problem\n",
    "def auxiliary_LP(index,l,u,x,g):\n",
    "    y_prime=np.zeros(len(index))\n",
    "    for m in range(len(index)):\n",
    "        y=np.zeros(len(index))\n",
    "        y[index[:m]]=l[index[:m]]-x[index[:m]]\n",
    "        y[index[m+1:len(index)]]=u[index[m+1:len(index)]]-x[index[m+1:len(index)]]\n",
    "        a=0 - sum(y[index[:m]]) - sum(y[index[m+1:]])\n",
    "        if l[index[m]]-x[index[m]]<=a and a<=u[index[m]]-x[index[m]]: #feasible y\n",
    "            y[index[m]]=a\n",
    "            if np.dot(g,y)<np.dot(g,y_prime):\n",
    "                y_prime=y.copy()\n",
    "    return y_prime\n",
    "\n",
    "def get_y(x,mean_return,cov_matrix,l,u,lamda):\n",
    "    g=find_gradient(x,mean_return,cov_matrix,lamda)\n",
    "    index=sort_grads(g)\n",
    "    return auxiliary_LP(index,l,u,x,g)\n",
    "\n",
    "def obj_val(x,lamda):\n",
    "    obj = lamda * np.dot(np.dot(np.transpose(x), sample_cov_matrix),x)  - np.dot(np.transpose(x),sample_mean_returns)\n",
    "    return obj\n",
    "\n",
    "def derivative(x,s,y,lamda,h=0.0001):\n",
    "    drvt = (obj_val(x+(s+h)*y,lamda)-obj_val(x+s*y,lamda))/h\n",
    "    return drvt\n",
    "\n",
    "def s_star(x,y,lamda,h=0.0001):\n",
    "    sl,su,sm=0,1,1/2\n",
    "    # search for zero point\n",
    "    while abs(derivative(x,sm,y,lamda))>0.001:\n",
    "        upper,lower = derivative(x,su,y,lamda,h=0.0001),derivative(x,sl,y,lamda,h=0.0001)\n",
    "        # Monotonous of s, return the s mins obj\n",
    "        if lower*upper >0: return su if obj_val(x+su*y,lamda)<obj_val(x+sl*y,lamda) else sl\n",
    "        #binary search\n",
    "        mid = derivative(x,sm,y,lamda,h=0.0001)\n",
    "        if mid * lower <0: \n",
    "            su = sm\n",
    "        else: \n",
    "            sl = sm\n",
    "        sm = (su+sl)/2\n",
    "    return sm\n",
    "\n",
    "def optimal_x(x,y,s,lamda,h,stop_dif=0.001):\n",
    "    x_1=x+s*y\n",
    "    if np.all(y==0):\n",
    "        return x\n",
    "    elif obj_val(x,lamda)<obj_val(x_1,lamda):\n",
    "        print('the objective value increases after the movement')\n",
    "        return x\n",
    "    elif obj_val(x,lamda)-obj_val(x_1,lamda)<stop_dif:\n",
    "        return x_1\n",
    "    else:\n",
    "        x=x_1\n",
    "        y=get_y(x,sample_mean_returns,sample_cov_matrix,l,u,lamda)\n",
    "        s=s_star(x,y,lamda,h)\n",
    "        return optimal_x(x,y,s,lamda,h,stop_dif)\n",
    "    \n",
    "def mean_variance_opt(lamda,l,u,sample_cov_matrix,sample_mean_returns,h,stop_dif):  \n",
    "    x=get_feasible_x(l,u)\n",
    "    y=get_y(x,sample_mean_returns,sample_cov_matrix,l,u,lamda)\n",
    "    s=s_star(x,y,lamda,h)\n",
    "    x=optimal_x(x,y,s,lamda,h,stop_dif)\n",
    "    return x"
   ]
  },
  {
   "cell_type": "code",
   "execution_count": 20,
   "metadata": {},
   "outputs": [
    {
     "name": "stdout",
     "output_type": "stream",
     "text": [
      "when lambda=0, total risk of my optimal basket is: 0.0186367839338458\n",
      "Total number of asset in my basket is: 1\n"
     ]
    },
    {
     "data": {
      "image/png": "[encoded data removed]",
      "text/plain": [
       "<Figure size 432x288 with 1 Axes>"
      ]
     },
     "metadata": {
      "needs_background": "light"
     },
     "output_type": "display_data"
    },
    {
     "data": {
      "image/png": "[encoded data removed]",
      "text/plain": [
       "<Figure size 432x288 with 1 Axes>"
      ]
     },
     "metadata": {
      "needs_background": "light"
     },
     "output_type": "display_data"
    },
    {
     "name": "stdout",
     "output_type": "stream",
     "text": [
      "min variance I have is: 0.002563907232526064\n",
      "medium risk is: 0.010600345583185932\n",
      "The lambda estimate for s2_mid is: 0.16403060370362343\n"
     ]
    }
   ],
   "source": [
    "l = np.full(947, 0)\n",
    "u = np.full(947, 1)\n",
    "x=mean_variance_opt(0,l,u,sample_cov_matrix,sample_mean_returns,0.0001,0.001)\n",
    "\n",
    "\n",
    "# Finding total risks\n",
    "def total_risk(x,cov_matrix):\n",
    "    return np.dot(np.dot(x,cov_matrix),x.T)\n",
    "def total_return(x, sample_mean_returns):\n",
    "    return np.dot(x, sample_mean_returns)\n",
    "#Question 3 \n",
    "\n",
    "s2_0=total_risk(x,sample_cov_matrix)\n",
    "print('when lambda=0, total risk of my optimal basket is:', s2_0)\n",
    "print('Total number of asset in my basket is:',np.count_nonzero(x))\n",
    "\n",
    "# Question 4\n",
    "\n",
    "# Creating list of lamba ranging from 0 to 0.5 with an increment step of 0.125\n",
    "lam = [i for i in np.linspace(0, 0.5, 5)]\n",
    "risks = []\n",
    "returns=[]\n",
    "for lamda in lam:\n",
    "    risks.append(total_risk(mean_variance_opt(lamda,l,u,sample_cov_matrix,sample_mean_returns,0.0001,0.001), sample_cov_matrix))\n",
    "    returns.append(total_return(mean_variance_opt(lamda,l,u,sample_cov_matrix,sample_mean_returns,0.0001,0.001),sample_mean_returns))\n",
    "\n",
    "# Plotting the graph of risk vs lambda\n",
    "plt.plot(lam, risks)\n",
    "plt.ylabel('total risks')\n",
    "plt.xlabel('lambda values')\n",
    "plt.savefig('HW1 Q4 Plot of variance.png')\n",
    "plt.show() \n",
    "\n",
    "#plot risk vs return \n",
    "plt.plot(risks, returns)\n",
    "plt.ylabel('total returns')\n",
    "plt.xlabel('total risks')\n",
    "plt.show() \n",
    "\n",
    "# Calculating minimum risk amongst all values of given risks\n",
    "min_risk = min(risks)\n",
    "print('min variance I have is:', min_risk)\n",
    "\n",
    "#question5\n",
    "# Calculating mid risk\n",
    "s2_mid = (s2_0 + min_risk) / 2\n",
    "print('medium risk is:', s2_mid)\n",
    "\n",
    "# Interpolating the value of lambda at mid risk by calculating function f\n",
    "f = interp1d(risks, lam)\n",
    "print('The lambda estimate for s2_mid is:', f(s2_mid))\n"
   ]
  },
  {
   "cell_type": "code",
   "execution_count": null,
   "metadata": {},
   "outputs": [],
   "source": []
  }
 ],
 "metadata": {
  "kernelspec": {
   "display_name": "Python 3",
   "language": "python",
   "name": "python3"
  },
  "language_info": {
   "codemirror_mode": {
    "name": "ipython",
    "version": 3
   },
   "file_extension": ".py",
   "mimetype": "text/x-python",
   "name": "python",
   "nbconvert_exporter": "python",
   "pygments_lexer": "ipython3",
   "version": "3.6.6"
  }
 },
 "nbformat": 4,
 "nbformat_minor": 2
}
